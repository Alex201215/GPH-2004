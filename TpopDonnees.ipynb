{
  "nbformat": 4,
  "nbformat_minor": 0,
  "metadata": {
    "colab": {
      "provenance": [],
      "gpuType": "T4",
      "authorship_tag": "ABX9TyOpzqhlYI9es13CuOmzdagU",
      "include_colab_link": true
    },
    "kernelspec": {
      "name": "python3",
      "display_name": "Python 3"
    },
    "language_info": {
      "name": "python"
    },
    "accelerator": "GPU"
  },
  "cells": [
    {
      "cell_type": "markdown",
      "metadata": {
        "id": "view-in-github",
        "colab_type": "text"
      },
      "source": [
        "<a href=\"https://colab.research.google.com/github/Alex201215/GPH-2004/blob/master/TpopDonnees.ipynb\" target=\"_parent\"><img src=\"https://colab.research.google.com/assets/colab-badge.svg\" alt=\"Open In Colab\"/></a>"
      ]
    },
    {
      "cell_type": "markdown",
      "source": [
        "Import des packages nécessaires pour MNIST\n",
        "\n"
      ],
      "metadata": {
        "id": "4Nyg-2J2SFuS"
      }
    },
    {
      "cell_type": "code",
      "execution_count": 39,
      "metadata": {
        "colab": {
          "base_uri": "https://localhost:8080/"
        },
        "id": "r0XxFFrd1JG8",
        "outputId": "40adbce1-618c-4fb5-d4a7-702fbf8d4026"
      },
      "outputs": [
        {
          "output_type": "stream",
          "name": "stdout",
          "text": [
            "2.2.1+cu121\n"
          ]
        }
      ],
      "source": [
        "import torch\n",
        "import pandas as pd\n",
        "import numpy as np\n",
        "import matplotlib.pyplot as plt\n",
        "from torchvision.datasets import MNIST\n",
        "from torchvision.transforms import ToTensor\n",
        "\n",
        "print(torch.__version__)\n",
        "#print(torchvision.__version__)"
      ]
    },
    {
      "cell_type": "markdown",
      "source": [],
      "metadata": {
        "id": "vQDJvjobR4dI"
      }
    },
    {
      "cell_type": "code",
      "source": [
        "traindata = MNIST(root=\"data\",\n",
        "                  train=True,\n",
        "                  download = True,\n",
        "                  transform = ToTensor())\n",
        "\n",
        "testdata = MNIST(root=\"data\",\n",
        "                  train=False,\n",
        "                  download = True,\n",
        "                  transform = ToTensor())"
      ],
      "metadata": {
        "id": "bsbWgvAY1brM"
      },
      "execution_count": 32,
      "outputs": []
    },
    {
      "cell_type": "markdown",
      "source": [
        "La base de données est donc importée, on veut maintenant les affichers (pour des raisons de test)\n",
        "\n"
      ],
      "metadata": {
        "id": "Smds5V-LRwwm"
      }
    },
    {
      "cell_type": "code",
      "source": [
        "class_names = traindata.classes\n",
        "print(len(testdata), len(traindata)) # Costaud !\n",
        "image, label = traindata[0]\n",
        "#print(image)\n",
        "traindata, testdata"
      ],
      "metadata": {
        "colab": {
          "base_uri": "https://localhost:8080/"
        },
        "id": "yj5AjPizS_5g",
        "outputId": "f5c84ce2-9083-491d-8503-5953130f4609"
      },
      "execution_count": 76,
      "outputs": [
        {
          "output_type": "stream",
          "name": "stdout",
          "text": [
            "10000 60000\n"
          ]
        },
        {
          "output_type": "execute_result",
          "data": {
            "text/plain": [
              "(Dataset MNIST\n",
              "     Number of datapoints: 60000\n",
              "     Root location: data\n",
              "     Split: Train\n",
              "     StandardTransform\n",
              " Transform: ToTensor(),\n",
              " Dataset MNIST\n",
              "     Number of datapoints: 10000\n",
              "     Root location: data\n",
              "     Split: Test\n",
              "     StandardTransform\n",
              " Transform: ToTensor())"
            ]
          },
          "metadata": {},
          "execution_count": 76
        }
      ]
    },
    {
      "cell_type": "markdown",
      "source": [
        "*On* veut afficher ces données avec matplotlib. Squeeze prends ton image et enlève une dimension (prends un tenseur enlève une dimension au tenseur). Et cmap=\"gray\" prends ton image et la met sur une échelle noir et blanc"
      ],
      "metadata": {
        "id": "DcpP6OwPU4O0"
      }
    },
    {
      "cell_type": "code",
      "source": [
        "plt.imshow(image.squeeze(), cmap=\"gray\")\n",
        "print(image.ndim) # Image a 3 dimensions\n",
        "print(image.shape)\n",
        "\n",
        "image_squeezed = image.squeeze(dim=0)\n",
        "print(image_squeezed.ndim)\n",
        "print(image_squeezed.shape)"
      ],
      "metadata": {
        "colab": {
          "base_uri": "https://localhost:8080/",
          "height": 501
        },
        "id": "w5t1xX_3UoFG",
        "outputId": "8bda01b4-c77e-4f7a-f296-151e7b73ea8a"
      },
      "execution_count": 34,
      "outputs": [
        {
          "output_type": "stream",
          "name": "stdout",
          "text": [
            "3\n",
            "torch.Size([1, 28, 28])\n",
            "2\n",
            "torch.Size([28, 28])\n"
          ]
        },
        {
          "output_type": "display_data",
          "data": {
            "text/plain": [
              "<Figure size 640x480 with 1 Axes>"
            ],
            "image/png": "[encoded data removed]"
          },
          "metadata": {}
        }
      ]
    },
    {
      "cell_type": "markdown",
      "source": [
        "Voici donc l'une des images (première image du tension de traindata). On commence maintenant le code pour entraîner l'algorithme. En ce moment on a du data en TorchDataset. We want to turn our data into mini batches. On fait ça car ton hardware n'arrive pas à lire autant d'images de la mémoire. Tu veux aussi donner plus de chances à ton réseaux de neuronnes d'update par epoch (Whatever epoch is). On fait donc des batch de 32.\n",
        "\n",
        "Ensuite, DataLoader va rendre notre dataset itérable (batch de 32)"
      ],
      "metadata": {
        "id": "Q9lnNQ2wKQSH"
      }
    },
    {
      "cell_type": "code",
      "source": [
        "from torch.utils.data import DataLoader\n",
        "\n",
        "# Setup the batch size hyperparameter\n",
        "BATCH_SIZE = 32\n",
        "\n",
        "# Turn datasets into iterables (batches)\n",
        "train_dataloader = DataLoader(dataset=traindata,\n",
        "                              batch_size=BATCH_SIZE,\n",
        "                              shuffle=True)\n",
        "\n",
        "test_dataloader = DataLoader(dataset=testdata,\n",
        "                             batch_size=BATCH_SIZE,\n",
        "                             shuffle=False)\n",
        "\n",
        "train_dataloader, test_dataloader"
      ],
      "metadata": {
        "colab": {
          "base_uri": "https://localhost:8080/"
        },
        "id": "4ewEKc-tKwrw",
        "outputId": "16d9e9f7-ca14-4966-d8b5-e33f6b7e9d14"
      },
      "execution_count": 35,
      "outputs": [
        {
          "output_type": "execute_result",
          "data": {
            "text/plain": [
              "(<torch.utils.data.dataloader.DataLoader at 0x7dc952054be0>,\n",
              " <torch.utils.data.dataloader.DataLoader at 0x7dc952056dd0>)"
            ]
          },
          "metadata": {},
          "execution_count": 35
        }
      ]
    },
    {
      "cell_type": "code",
      "source": [
        "# Let's check out what we've created\n",
        "print(f\"DataLoaders: {train_dataloader, test_dataloader}\")\n",
        "print(f\"Length of train_dataloader: {len(train_dataloader)} batches of {BATCH_SIZE}\")\n",
        "print(f\"Length of test_dataloader: {len(test_dataloader)} batches of {BATCH_SIZE}\")"
      ],
      "metadata": {
        "colab": {
          "base_uri": "https://localhost:8080/"
        },
        "id": "FEUcvoa1MORk",
        "outputId": "a038dd9e-8256-4abe-b2ee-7d9d3c4447b1"
      },
      "execution_count": 40,
      "outputs": [
        {
          "output_type": "stream",
          "name": "stdout",
          "text": [
            "DataLoaders: (<torch.utils.data.dataloader.DataLoader object at 0x7dc952054be0>, <torch.utils.data.dataloader.DataLoader object at 0x7dc952056dd0>)\n",
            "Length of train_dataloader: 1875 batches of 32\n",
            "Length of test_dataloader: 313 batches of 32\n"
          ]
        }
      ]
    },
    {
      "cell_type": "markdown",
      "source": [
        "Dernier dataloader a pas exactement 313 batches. C'est 312.5 mais rounded out."
      ],
      "metadata": {
        "id": "gEyMg_e8OzR7"
      }
    },
    {
      "cell_type": "code",
      "source": [
        "# Features = images, Label = target\n",
        "train_features_batch, train_labels_batch = next(iter(train_dataloader))\n",
        "train_features_batch.shape, train_labels_batch.shape\n",
        "# Nb d'images, Color channel, size, size\n",
        "# Color channel indice qui donne info couleurs"
      ],
      "metadata": {
        "colab": {
          "base_uri": "https://localhost:8080/"
        },
        "id": "g7EO9yCDPlyx",
        "outputId": "e08a7b25-335c-47aa-b851-14e147ea66d1"
      },
      "execution_count": 65,
      "outputs": [
        {
          "output_type": "execute_result",
          "data": {
            "text/plain": [
              "(torch.Size([32, 1, 28, 28]), torch.Size([32]))"
            ]
          },
          "metadata": {},
          "execution_count": 65
        }
      ]
    },
    {
      "cell_type": "code",
      "source": [
        "# Show a sample (n'importe quel, d'où le randint)\n",
        "torch.manual_seed(42)\n",
        "random_idx = torch.randint(0, len(train_features_batch), size=[1]).item()\n",
        "img, label = train_features_batch[random_idx], train_labels_batch[random_idx]\n",
        "plt.imshow(img.squeeze(), cmap='gray')\n",
        "plt.title(class_names[label])\n",
        "plt.axis(False)\n",
        "print(f\"Image size: {img.shape}\")\n",
        "print(f\"Label: {label}, label size: {label.shape}\")"
      ],
      "metadata": {
        "colab": {
          "base_uri": "https://localhost:8080/",
          "height": 464
        },
        "id": "OHUyWzoPN8UG",
        "outputId": "0fbce39b-475c-4112-cdfc-3223a10fc4d6"
      },
      "execution_count": 81,
      "outputs": [
        {
          "output_type": "stream",
          "name": "stdout",
          "text": [
            "Image size: torch.Size([1, 28, 28])\n",
            "Label: 9, label size: torch.Size([])\n"
          ]
        },
        {
          "output_type": "display_data",
          "data": {
            "text/plain": [
              "<Figure size 640x480 with 1 Axes>"
            ],
            "image/png": "[encoded data removed]"
          },
          "metadata": {}
        }
      ]
    },
    {
      "cell_type": "markdown",
      "source": [
        "Maintenant qu'on a des dataLoaders, il faut un modèle qui peut learn de tous ces dataLoaders. L'étape suivante est donc la création du modèle qui permet de prendre les dataLoaders et apprendre de ceux-ci."
      ],
      "metadata": {
        "id": "xPxgz-RUTFzq"
      }
    },
    {
      "cell_type": "markdown",
      "source": [
        "## 3. Model 0: Build a baseline model\n",
        "\n",
        "When starting to build a series of machine learning modelling experiemtns, it\\'s best practice to start with a baseline model.\n",
        "\n",
        "A baseline model is a simple model you will try and improve upon with subsequent models/experiments.\n",
        "\n",
        "In other words: start simply and add complexity when necessary."
      ],
      "metadata": {
        "id": "egZsDXjoSz7Z"
      }
    },
    {
      "cell_type": "code",
      "source": [
        "from torch import nn\n",
        "\n",
        "# Create a flatten layer ()\n",
        "flatten_model = nn.Flatten()\n",
        "\n",
        "\n",
        "# Get a single sample (C'est un tenseur qui continent l'information de l'image)\n",
        "x = train_features_batch[0]\n",
        "x.shape\n",
        "\n",
        "# Flatten the sample\n",
        "output = flatten_model(x) # perform forward pass\n",
        "\n",
        "#print out what hapenned (Tu enlève une dimension au tenseur (tu merge deux dim en 1))\n",
        "print(f\"Shape before flattening: {x.shape}\")\n",
        "print(f\"Shape after flattening: {output.shape}\") # 28*28 = 784\n"
      ],
      "metadata": {
        "colab": {
          "base_uri": "https://localhost:8080/"
        },
        "id": "HlIhxLi-Ut5U",
        "outputId": "b3850df5-da76-45f9-d5e6-818c6bf67756"
      },
      "execution_count": 94,
      "outputs": [
        {
          "output_type": "stream",
          "name": "stdout",
          "text": [
            "Shape before flattening: torch.Size([1, 28, 28])\n",
            "Shape after flattening: torch.Size([1, 784])\n"
          ]
        }
      ]
    },
    {
      "cell_type": "code",
      "source": [
        "class TpopMNISTModelV0(nn.Module):\n",
        "\n",
        "  def __init__(self,\n",
        "               input_shape: int,\n",
        "               hidden_units: int,\n",
        "               output_shape: int) -> None:\n",
        "    super().__init__()\n",
        "    self.layer_stack = nn.Sequential(\n",
        "        nn.Flatten(),\n",
        "        nn.Linear(in_features=input_shape,\n",
        "                  out_features=hidden_units),\n",
        "        nn.Linear(in_features=hidden_units,\n",
        "                  out_features=output_shape) # modèle suggère aucune non-linéarité\n",
        "    )\n",
        "\n",
        "  def forward(self, x):\n",
        "    return self.layer_stack(x) # x is a batch at a time\n",
        "\n"
      ],
      "metadata": {
        "id": "1lXfxSGjWAhB"
      },
      "execution_count": 109,
      "outputs": []
    },
    {
      "cell_type": "markdown",
      "source": [],
      "metadata": {
        "id": "dYPaNrnZWAPL"
      }
    }
  ]
}